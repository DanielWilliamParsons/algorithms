{
 "cells": [
  {
   "cell_type": "markdown",
   "metadata": {},
   "source": [
    "# Computability\n",
    "\n",
    "## Mathematical Induction\n",
    "\n",
    "To prove that a statement is true for a sequence of objects $O_{0} ... O_{n}$\n",
    "1. prove it is true for the first object $O_{0}$\n",
    "2. assume it is true for all objects up to a certain one $O_{i}, i < n$\n",
    "3. prove it is true for the next object $O_{i+1}$"
   ]
  },
  {
   "cell_type": "markdown",
   "metadata": {},
   "source": [
    "**Example**\n",
    "\n",
    "The sequence $1 + 2 + 3 + ... + (n-4) + (n-2) + (n-2) + (n-1) + n = \\frac{n(n+1)}{2}$ can be proved to be a true statement as follows.\n",
    "\n",
    "1. Base case: $n=0$. Corresponding statement is $0 = \\frac{0(0+1)}{2}$ which is true.\n",
    "2. Assume the statement is true for any value $i$, i.e., $1 + 2 + ... + (i-1) + i = \\frac{i(i+1)}{2}$\n",
    "3. Now check the statement is true for the next value in the sequence $(i+1)$. By the assumption in 2 we can write the sequence as:\n",
    "$$ 1 + 2 + 3 + \\cdots + (i-1) + i + (i+1) = \\frac{i(i+1)}{2} + (i+1)$$\n",
    "$$ 1 + 2 + 3 + \\cdots + (i-1) + i + (i+1) = \\frac{i(i+1)}{2} + \\frac{2(i+1)}{2}$$\n",
    "$$ 1 + 2 + 3 + \\cdots + (i-1) + i + (i+1) = \\frac{i^{2} + 3i + 2}{2} = \\frac{(i+1)(i+2)}{2}$$\n",
    "$$ 1 + 2 + 3 + \\cdots + (i-1) + i + (i+1) = \\frac{(i+1)(i+1 + 1)}{2}$$\n",
    "which has the same form as the original statement, proving the statement $1 + 2 + 3 + ... + (n-4) + (n-2) + (n-2) + (n-1) + n = \\frac{n(n+1)}{2}$ is true."
   ]
  },
  {
   "cell_type": "markdown",
   "metadata": {},
   "source": [
    "## Partial Correctness of Iterative Algorithms\n",
    "Use the following:\n",
    "- **Preconditions**: like proving the first statement of induction, they are criteria met by inputs to an algorithm\n",
    "- **Loop invariants**: like assuming the statement is true, loop invariants must remain true while the loop is running)\n",
    "- **Post-conditions**: like checking the next statement after the loop, they describe criteria that must be met by output and some internal variables."
   ]
  },
  {
   "cell_type": "code",
   "execution_count": 1,
   "metadata": {},
   "outputs": [
    {
     "name": "stdout",
     "output_type": "stream",
     "text": [
      "The sum of all numbers from 1 to 10 is: 55\n"
     ]
    }
   ],
   "source": [
    "def sum_up_to(n):\n",
    "    if n > 0:\n",
    "        i = 0\n",
    "        a_sum = 0\n",
    "        for i in range(1, n+1):\n",
    "            a_sum = a_sum + i\n",
    "        return a_sum\n",
    "print(f\"The sum of all numbers from 1 to 10 is: {sum_up_to(10)}\")"
   ]
  },
  {
   "cell_type": "markdown",
   "metadata": {},
   "source": [
    "Let's provide the partial correctness of the above algorithm.\n",
    "- Precondition is that `n` must be greater than or equal to zero.\n",
    "- Loop invariant is that `a_sum` must be the sum of all the whole numbers between `0` and `i`.\n",
    "- Post condition is that `a_sum` is the sum of all the whole numbers between `0` and `n`.\n",
    "We must prove these three points.\n",
    "\n",
    "Now for the proofs:\n",
    "\n",
    "- Proving the precondition: before we enter the loop we have `i=0` and `a_sum=0`, so `a_sum=0` at the beginning of the loop, i.e., the loop invariant is true at the beginning of the loop.\n",
    "- Prove that the invariant is true - actually we assume that the loop invariant is true for any whole number `k < i`, then prove that the loop remains invariant at `k+1`.\n",
    "    - Assumption: when `i` exits the loop with `i=k`, we have the sum of all natural numbers between `0` and `k`.\n",
    "    - Invariant: when `i` becomes `k+1` then `a_sum` will become `a_sum + i + 1 = (1 + 2 + 3 + ... + k) + k + 1` which shows that `a_sum` is the sum of all number from `0` to `k+1`.\n",
    "    - Thus we have proved that the invariant is true.\n",
    "- Prove the post-condition: Take the case that `k = n - 1`. Since we have proved that the loop is invariant, we expect that the loop will be true for `k + 1 = n`. In other words, `a_sum` is the sum of all the natural numbers from `0` to `n`."
   ]
  },
  {
   "cell_type": "markdown",
   "metadata": {},
   "source": [
    "## Partial Correctness of Recursive Algorithms\n",
    "\n",
    "Recursive algorithms also have:\n",
    "- Preconditions\n",
    "- Loop invariants\n",
    "- Postconditions\n",
    "\n",
    "We must do the following proofs\n",
    "1. Prove that the base case of the invariant is true when the precondition is met.\n",
    "2. Prove that if the invariant is true for all the parameter-values `i` less than or equal to a give value `k`, then the invariant is also true when the parameter-value `i` becomes equal to `k+1`.\n",
    "3. The algorithm should yield the expected result after its final recursive call.\n",
    "\n",
    "Let's take a look at an example of recursively calculating the factorial."
   ]
  },
  {
   "cell_type": "code",
   "execution_count": 4,
   "metadata": {},
   "outputs": [
    {
     "name": "stdout",
     "output_type": "stream",
     "text": [
      "The value of 7! is 5040\n"
     ]
    }
   ],
   "source": [
    "def factorial(m):\n",
    "    if m >= 0:\n",
    "        if m == 0:\n",
    "            f = 1\n",
    "            return f\n",
    "        else:\n",
    "            f = m * factorial(m-1)\n",
    "            return f\n",
    "print(f\"The value of 7! is {factorial(7)}\")"
   ]
  },
  {
   "cell_type": "markdown",
   "metadata": {},
   "source": [
    "Let's prove the partial correctness of this algorithm\n",
    "\n",
    "1. Base case: `m=0` yields 1, which is $0!$.\n",
    "2. Assume that `factorial(i)` is equal to $i!$ for any value of `i` less than or equal to a given `k` between 0 and `m-1`. The fact that `k` is between `m=0` and `m-1` implies that `k+1` will enter the `else` statement. Therefore, `factorial(k+1) = (k+1) * factorial(k)` which is $(k+1)k!$ because of the assumption about `factorial(k)`. In other words `factorial(k+1)` is the same as $(k+1)k!$, which is $(k+1)!$ which we had to prove.\n",
    "3. Let `k=m-1`, then because the loop invariant is true, when we exit the loop we will have `factorial(m) = m!`.\n",
    "QED."
   ]
  },
  {
   "cell_type": "markdown",
   "metadata": {},
   "source": [
    "## Total Correctness\n",
    "\n",
    "Total Correction = Partial Correction + Termination Proof. A termination proof involves showing that there are a finite number of steps through the iteration, or, in the case of recursion, that the internal parameters will always come to an end in the base case.\n",
    "\n",
    "For the `sum_up_to(n)` algorithm, we can prove termination by saying that when the iterator `i` reaches the end of the range, it will exit the loop and this is a finite number.\n",
    "\n",
    "For the `factorial` algorithm, each time `factorial(m)` is called, `m` is reduced by 1, so that the algorithm is called with `m-1`, then `m-2`, then `m-3` all the way down to `0`, and when it reaches `0`, the base case will be returned which will invoke calls on the stack until the stack is emptied.\n",
    "\n",
    "Not all algorithms that are partially correct are totally correct. The Collatz Sequence is an example (below) that is partially correct, but not totally correct, i.e., there is no termination proof."
   ]
  },
  {
   "cell_type": "code",
   "execution_count": 7,
   "metadata": {},
   "outputs": [
    {
     "name": "stdout",
     "output_type": "stream",
     "text": [
      "Does the following Collatz sequence starting at 6 contain the value 1? [6, 3.0, 10.0, 5.0, 16.0, 8.0, 4.0, 2.0, 1.0]\n",
      "Does the following Collatz sequence starting at 18 contain the value 1? [18, 9.0, 28.0, 14.0, 7.0, 22.0, 11.0, 34.0, 17.0, 52.0, 26.0, 13.0, 40.0, 20.0, 10.0, 5.0, 16.0, 8.0, 4.0, 2.0, 1.0]\n"
     ]
    }
   ],
   "source": [
    "def collatz(n):\n",
    "    if n > 0:\n",
    "        m = n\n",
    "        c = []\n",
    "        c.append(m)\n",
    "        while m != 1:\n",
    "            if (m%2 == 0):\n",
    "                m = m / 2\n",
    "            else:\n",
    "                m = (3*m) + 1\n",
    "            c.append(m)\n",
    "        return c\n",
    "print(f\"Does the following Collatz sequence starting at 6 contain the value 1? {collatz(6)}\")\n",
    "print(f\"Does the following Collatz sequence starting at 18 contain the value 1? {collatz(18)}\")"
   ]
  },
  {
   "cell_type": "markdown",
   "metadata": {},
   "source": []
  }
 ],
 "metadata": {
  "kernelspec": {
   "display_name": "Python 3",
   "language": "python",
   "name": "python3"
  },
  "language_info": {
   "codemirror_mode": {
    "name": "ipython",
    "version": 3
   },
   "file_extension": ".py",
   "mimetype": "text/x-python",
   "name": "python",
   "nbconvert_exporter": "python",
   "pygments_lexer": "ipython3",
   "version": "3.9.6"
  }
 },
 "nbformat": 4,
 "nbformat_minor": 2
}
